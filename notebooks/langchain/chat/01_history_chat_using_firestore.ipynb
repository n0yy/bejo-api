{
 "cells": [
  {
   "cell_type": "code",
   "execution_count": 6,
   "metadata": {},
   "outputs": [
    {
     "name": "stdout",
     "output_type": "stream",
     "text": [
      "Start chatting with the AI. Type 'exit' to quit.\n",
      "AI: Kamu menanyakan tentang:\n",
      "\n",
      "*   Siapa itu Sam Altman?\n",
      "*   Siapa itu Andrej Karpathy?\n"
     ]
    }
   ],
   "source": [
    "import os\n",
    "from uuid import uuid4\n",
    "from dotenv import load_dotenv\n",
    "from google.cloud import firestore\n",
    "from langchain_google_firestore import FirestoreChatMessageHistory\n",
    "from langchain_google_genai.llms import GoogleGenerativeAI\n",
    "\n",
    "# Load environment variables\n",
    "load_dotenv()\n",
    "\n",
    "# 🔹 Konfigurasi Firestore Authentication\n",
    "os.environ[\"GOOGLE_APPLICATION_CREDENTIALS\"] = os.getenv(\"FIREBASE_CREDENTIALS\", \"secrets.json\")\n",
    "\n",
    "# Setup Firebase Firestore\n",
    "PROJECT_ID = os.getenv(\"FIREBASE_PROJECT_ID\", \"b7-dashboarding\")\n",
    "SESSION_ID = os.getenv(\"SESSION_ID\", \"03951483-66f0-484b-a17b-1344be593c6d\")  # Bisa diganti user_id\n",
    "COLLECTION_NAME = os.getenv(\"COLLECTION_NAME\", \"chat_history\")\n",
    "\n",
    "# 🔹 Initialize Firestore Client\n",
    "client = firestore.Client(project=PROJECT_ID)\n",
    "\n",
    "# 🔹 Initialize Firestore Chat Message History\n",
    "chat_history = FirestoreChatMessageHistory(\n",
    "    session_id=SESSION_ID,\n",
    "    collection=COLLECTION_NAME,\n",
    "    client=client,\n",
    ")\n",
    "\n",
    "# 🔹 Initialize Chat Model\n",
    "model = GoogleGenerativeAI(model=\"gemini-2.0-flash-lite\")\n",
    "\n",
    "print(\"Start chatting with the AI. Type 'exit' to quit.\")\n",
    "\n",
    "while True:\n",
    "    human_input = input(\"User: \")\n",
    "    if human_input.lower() == \"exit\":\n",
    "        break\n",
    "\n",
    "    chat_history.add_user_message(human_input)\n",
    "\n",
    "    ai_response = model.invoke(chat_history.messages)\n",
    "    chat_history.add_ai_message(ai_response)\n",
    "\n",
    "    print(f\"AI: {ai_response}\")\n"
   ]
  },
  {
   "cell_type": "code",
   "execution_count": null,
   "metadata": {},
   "outputs": [],
   "source": []
  }
 ],
 "metadata": {
  "kernelspec": {
   "display_name": ".venv",
   "language": "python",
   "name": "python3"
  },
  "language_info": {
   "codemirror_mode": {
    "name": "ipython",
    "version": 3
   },
   "file_extension": ".py",
   "mimetype": "text/x-python",
   "name": "python",
   "nbconvert_exporter": "python",
   "pygments_lexer": "ipython3",
   "version": "3.11.11"
  }
 },
 "nbformat": 4,
 "nbformat_minor": 2
}
