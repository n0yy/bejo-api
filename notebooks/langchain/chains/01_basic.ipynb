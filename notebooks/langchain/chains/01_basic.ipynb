{
 "cells": [
  {
   "cell_type": "code",
   "execution_count": 12,
   "metadata": {},
   "outputs": [],
   "source": [
    "from dotenv import load_dotenv\n",
    "from langchain.prompts import ChatPromptTemplate\n",
    "from langchain.schema.output_parser import StrOutputParser\n",
    "from langchain.schema.runnable import RunnableLambda\n",
    "from langchain_google_genai.llms import GoogleGenerativeAI\n",
    "\n",
    "load_dotenv()\n",
    "\n",
    "llm = GoogleGenerativeAI(model=\"gemini-2.0-flash\")"
   ]
  },
  {
   "cell_type": "code",
   "execution_count": 19,
   "metadata": {},
   "outputs": [
    {
     "name": "stdout",
     "output_type": "stream",
     "text": [
      "{'content': 'Hark, gentle friend, and lend thine ear to words of love, forged in the crucible of my heart:\\n\\n1.  Love is a tempest, a raging storm that doth both tear and tenderly embrace, leaving the soul both wrecked and reborn. It is a madness divine, a sweet delirium that doth blind the eyes to reason, yet opens the heart to truth.\\n\\n2.  For love is not a fleeting fancy, a mere dalliance of the eye, but a bond eternal, woven with threads of loyalty and sacrifice. It is a guiding star, a beacon in the darkest night, that doth lead us home, one to another, until the final curtain falls.', 'token_info': {'in_tokens': 21, 'out_tokens': 137, 'total_tokens': 158}}\n"
     ]
    }
   ],
   "source": [
    "prompt_template = ChatPromptTemplate.from_messages(\n",
    "    [\n",
    "        (\"system\", \"Imagine you are shakespare, write a quotes about {topic}\"),\n",
    "        (\"human\", \"Buat sebanyak {count} quotes\")\n",
    "    ]\n",
    ")\n",
    "\n",
    "def process_with_token_count(input_text, output_text):\n",
    "    input_tokens = llm.get_num_tokens(input_text)\n",
    "    output_tokens = llm.get_num_tokens(output_text)\n",
    "    return {\n",
    "        \"content\": output_text,\n",
    "        \"token_info\": {\n",
    "            \"in_tokens\": input_tokens,\n",
    "            \"out_tokens\": output_tokens,\n",
    "            \"total_tokens\": input_tokens + output_tokens\n",
    "        }\n",
    "    }\n",
    "\n",
    "chain = (\n",
    "    prompt_template\n",
    "    | llm\n",
    "    | StrOutputParser()\n",
    "    | RunnableLambda(lambda x: process_with_token_count(\n",
    "        prompt_template.format(topic=\"love\", count=2),\n",
    "        x\n",
    "    ))\n",
    ")\n",
    "\n",
    "result = chain.invoke({ \"topic\": \"love\",  \"count\": 2})\n",
    "print(result)"
   ]
  },
  {
   "cell_type": "code",
   "execution_count": 16,
   "metadata": {},
   "outputs": [
    {
     "data": {
      "text/markdown": [
       "Hark, mortal! Two pronouncements on the tempestuous sea that is Love, I shall now deliver:\n",
       "\n",
       "1.  **Love is a wildfire, kindled in the heart's dark forest. It doth consume all reason, leaving naught but ashes of sweet desire.** (Think of Romeo and Juliet, consumed by their passion!)\n",
       "\n",
       "2.  **Love is not merely a fleeting fancy, but a constant star, fixed in the firmament. Though tempests rage and fortunes shift, its light doth guide true souls eternally.** (Consider the enduring love between a King and his Queen, weathering trials together!)"
      ],
      "text/plain": [
       "<IPython.core.display.Markdown object>"
      ]
     },
     "execution_count": 16,
     "metadata": {},
     "output_type": "execute_result"
    }
   ],
   "source": [
    "from IPython.display import Markdown\n",
    "\n",
    "Markdown(result[\"content\"])"
   ]
  },
  {
   "cell_type": "code",
   "execution_count": null,
   "metadata": {},
   "outputs": [],
   "source": []
  }
 ],
 "metadata": {
  "kernelspec": {
   "display_name": ".venv",
   "language": "python",
   "name": "python3"
  },
  "language_info": {
   "codemirror_mode": {
    "name": "ipython",
    "version": 3
   },
   "file_extension": ".py",
   "mimetype": "text/x-python",
   "name": "python",
   "nbconvert_exporter": "python",
   "pygments_lexer": "ipython3",
   "version": "3.11.11"
  }
 },
 "nbformat": 4,
 "nbformat_minor": 2
}
